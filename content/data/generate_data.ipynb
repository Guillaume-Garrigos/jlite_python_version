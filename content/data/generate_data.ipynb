{
 "cells": [
  {
   "cell_type": "markdown",
   "metadata": {},
   "source": [
    "# Document pour la génération des données du TP5"
   ]
  },
  {
   "cell_type": "code",
   "execution_count": 1,
   "metadata": {},
   "outputs": [],
   "source": [
    "import numpy as np\n",
    "import matplotlib.pyplot as plt"
   ]
  },
  {
   "cell_type": "code",
   "execution_count": 2,
   "metadata": {},
   "outputs": [],
   "source": [
    "# On génère artificiellement des données bien séparées\n",
    "nb_data = 400\n",
    "center_red = np.array([-3,-3])\n",
    "center_blue = np.array([3,3])\n",
    "x_red = np.random.normal(loc=center_red, scale=1.0, size=(nb_data,2))\n",
    "y_red = -np.ones((nb_data,1))\n",
    "x_blue = np.random.normal(loc=center_blue, scale=1.0, size=(nb_data,2))\n",
    "y_blue = np.ones((nb_data,1))"
   ]
  },
  {
   "cell_type": "code",
   "execution_count": 3,
   "metadata": {},
   "outputs": [],
   "source": [
    "X = np.concatenate([x_red, x_blue], axis=0)\n",
    "Y = np.concatenate([y_red, y_blue], axis=0)"
   ]
  },
  {
   "cell_type": "code",
   "execution_count": 4,
   "metadata": {},
   "outputs": [
    {
     "data": {
      "text/plain": [
       "(800, 3)"
      ]
     },
     "execution_count": 4,
     "metadata": {},
     "output_type": "execute_result"
    }
   ],
   "source": [
    "data = np.concatenate([X, Y], axis=1)\n",
    "data.shape"
   ]
  },
  {
   "cell_type": "code",
   "execution_count": 5,
   "metadata": {},
   "outputs": [],
   "source": [
    "np.random.shuffle(data)"
   ]
  },
  {
   "cell_type": "code",
   "execution_count": 7,
   "metadata": {},
   "outputs": [],
   "source": [
    "x_train = data[:200, 0:-1]\n",
    "y_train = data[:200, -1]\n",
    "x_test = data[200:, 0:-1]\n",
    "y_test = data[200:, -1]"
   ]
  },
  {
   "cell_type": "code",
   "execution_count": 11,
   "metadata": {},
   "outputs": [],
   "source": [
    "np.save('donnees_entrainement.npy', x_train)\n",
    "np.save('etiquettes_entrainement.npy', y_train)\n",
    "np.save('donnees_test.npy', x_test)\n",
    "np.save('etiquettes_test.npy', y_test)"
   ]
  },
  {
   "cell_type": "code",
   "execution_count": null,
   "metadata": {},
   "outputs": [],
   "source": []
  },
  {
   "cell_type": "code",
   "execution_count": null,
   "metadata": {},
   "outputs": [],
   "source": []
  },
  {
   "cell_type": "code",
   "execution_count": null,
   "metadata": {},
   "outputs": [],
   "source": []
  },
  {
   "cell_type": "code",
   "execution_count": null,
   "metadata": {},
   "outputs": [],
   "source": []
  },
  {
   "cell_type": "code",
   "execution_count": null,
   "metadata": {},
   "outputs": [],
   "source": []
  },
  {
   "cell_type": "code",
   "execution_count": null,
   "metadata": {},
   "outputs": [],
   "source": []
  },
  {
   "cell_type": "code",
   "execution_count": null,
   "metadata": {},
   "outputs": [],
   "source": []
  },
  {
   "cell_type": "code",
   "execution_count": 102,
   "metadata": {},
   "outputs": [],
   "source": [
    "dimension = lambda x: len(x.shape)\n",
    "def scatter(data, **param):\n",
    "    # data is an array containing 2D vectors\n",
    "    if dimension(data) == 1:\n",
    "        plt.scatter(data[0], data[1], **param)\n",
    "    elif dimension(data) == 2:\n",
    "        if data.shape[0] == 2:\n",
    "            plt.scatter(data[0,:], data[1,:], **param)\n",
    "        elif data.shape[1] == 2:\n",
    "            plt.scatter(data[:,0], data[:,1], **param)"
   ]
  },
  {
   "cell_type": "code",
   "execution_count": null,
   "metadata": {},
   "outputs": [],
   "source": [
    "scatter(x_blue, c='blue')\n",
    "scatter(x_red, c='red')"
   ]
  }
 ],
 "metadata": {
  "kernelspec": {
   "display_name": "Python 3 (ipykernel)",
   "language": "python",
   "name": "python3"
  },
  "language_info": {
   "codemirror_mode": {
    "name": "ipython",
    "version": 3
   },
   "file_extension": ".py",
   "mimetype": "text/x-python",
   "name": "python",
   "nbconvert_exporter": "python",
   "pygments_lexer": "ipython3",
   "version": "3.7.10"
  }
 },
 "nbformat": 4,
 "nbformat_minor": 4
}
