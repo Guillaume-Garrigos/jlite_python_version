{
 "cells": [
  {
   "cell_type": "markdown",
   "metadata": {},
   "source": [
    "# TP1 : Méthode de Newton"
   ]
  },
  {
   "cell_type": "markdown",
   "metadata": {},
   "source": [
    "# Avant de commencer : Introduction à Python et Jupyter\n",
    "\n",
    "Python est un langage de programmation complet : il permet de définir des fonctions, faire du calcul numérique, traiter des bases de données, etc. Dans cette introduction, nous allons (re)visiter rapidement les caractéristiques principales de ce langage.\n",
    "\n",
    "Jupyter est un environnement qui permet de coder dans plusieurs langages de programmation, et en particulier Python. Il permet d'écrire à la fois du **code** dans des cellules dédiées au code, et du **texte** (comme celui que vous lisez actuellement) dans des cellules dédiées au texte. \n",
    "\n",
    "### Executer du code et des fonctions en Python\n",
    "\n",
    "Pour exécuter le contenu d'une cellule, il suffit de se placer dans celle-ci et de taper Ctrl+Entrée ou Maj+Entrée. Vous pouvez essayer dans les cellules suivantes:"
   ]
  },
  {
   "cell_type": "code",
   "execution_count": 1,
   "metadata": {},
   "outputs": [
    {
     "data": {
      "text/plain": [
       "4"
      ]
     },
     "execution_count": 1,
     "metadata": {},
     "output_type": "execute_result"
    }
   ],
   "source": [
    "2+2"
   ]
  },
  {
   "cell_type": "code",
   "execution_count": 2,
   "metadata": {},
   "outputs": [
    {
     "data": {
      "text/plain": [
       "6"
      ]
     },
     "execution_count": 2,
     "metadata": {},
     "output_type": "execute_result"
    }
   ],
   "source": [
    "2*3"
   ]
  },
  {
   "cell_type": "code",
   "execution_count": 3,
   "metadata": {},
   "outputs": [
    {
     "data": {
      "text/plain": [
       "16"
      ]
     },
     "execution_count": 3,
     "metadata": {},
     "output_type": "execute_result"
    }
   ],
   "source": [
    "4**2"
   ]
  },
  {
   "cell_type": "code",
   "execution_count": 4,
   "metadata": {},
   "outputs": [
    {
     "data": {
      "text/plain": [
       "4"
      ]
     },
     "execution_count": 4,
     "metadata": {},
     "output_type": "execute_result"
    }
   ],
   "source": [
    "1+1\n",
    "2+3\n",
    "4*8\n",
    "2+2"
   ]
  },
  {
   "cell_type": "markdown",
   "metadata": {},
   "source": [
    "Comme vous pouvez le voir, par défaut Jupyter n'affiche que le résultat du *dernier* contenu de la cellule."
   ]
  },
  {
   "cell_type": "markdown",
   "metadata": {},
   "source": [
    "Python étant très versatile, et s'appliquant à des domaines différents, il a été choisi par ses concepteurs de ne pas proposer par défaut trop de fonctionalités. Si l'on veut avoir accès à des fonctions particulières, il faut au préalable **importer** les librairies qui leur correspondent. Ici on va importer les librairies `numpy` (calcul numérique et matriciel) et `pyplot` (affichage de graphiques):"
   ]
  },
  {
   "cell_type": "code",
   "execution_count": 5,
   "metadata": {},
   "outputs": [],
   "source": [
    "import numpy\n",
    "import matplotlib.pyplot"
   ]
  },
  {
   "cell_type": "markdown",
   "metadata": {},
   "source": [
    "Maintenant nous avons accès à de nouvelles fonctions! Prenons l'exemple de la fonction `sqrt` (*SQuare RooT*, pour racine carrée) : elle n'est pas implémentée par défault en python! Donc la cellule suivante va renvoyer un **message d'erreur**:"
   ]
  },
  {
   "cell_type": "code",
   "execution_count": 6,
   "metadata": {},
   "outputs": [
    {
     "ename": "NameError",
     "evalue": "name 'sqrt' is not defined",
     "output_type": "error",
     "traceback": [
      "\u001b[31m---------------------------------------------------------------------------\u001b[39m",
      "\u001b[31mNameError\u001b[39m                                 Traceback (most recent call last)",
      "\u001b[36mCell\u001b[39m\u001b[36m \u001b[39m\u001b[32mIn[6]\u001b[39m\u001b[32m, line 1\u001b[39m\n\u001b[32m----> \u001b[39m\u001b[32m1\u001b[39m \u001b[43msqrt\u001b[49m(\u001b[32m4\u001b[39m)\n",
      "\u001b[31mNameError\u001b[39m: name 'sqrt' is not defined"
     ]
    }
   ],
   "source": [
    "sqrt(4)"
   ]
  },
  {
   "cell_type": "markdown",
   "metadata": {},
   "source": [
    "Par contre sqrt est une fonction de la librairie `numpy`. Pour dire à Python que l'on veut appeler une `fonction` depuis une certaine `librairie`, on utilise une commande de la forme `librairie.fonction()`. Dans notre cas on va donc appeler  `numpy.sqrt()`, essayez vous même:"
   ]
  },
  {
   "cell_type": "code",
   "execution_count": 7,
   "metadata": {},
   "outputs": [
    {
     "data": {
      "text/plain": [
       "np.float64(2.0)"
      ]
     },
     "execution_count": 7,
     "metadata": {},
     "output_type": "execute_result"
    }
   ],
   "source": [
    "numpy.sqrt(4)"
   ]
  },
  {
   "cell_type": "markdown",
   "metadata": {},
   "source": [
    "Par contre écrire `numpy` à chaque fois va être un peu laborieux. En général on choisit d'importer une librairie avec un surnom dont on peut se servir comme raccourci. Traditionellement `numpy` est raccourcie en `np`, et `pyplot` en `plt`"
   ]
  },
  {
   "cell_type": "code",
   "execution_count": 8,
   "metadata": {},
   "outputs": [],
   "source": [
    "import numpy as np\n",
    "import matplotlib.pyplot as plt"
   ]
  },
  {
   "cell_type": "markdown",
   "metadata": {},
   "source": [
    "Cela permet d'écrire de manière plus concise:"
   ]
  },
  {
   "cell_type": "code",
   "execution_count": 9,
   "metadata": {},
   "outputs": [
    {
     "data": {
      "text/plain": [
       "np.float64(2.0)"
      ]
     },
     "execution_count": 9,
     "metadata": {},
     "output_type": "execute_result"
    }
   ],
   "source": [
    "np.sqrt(4)"
   ]
  },
  {
   "cell_type": "markdown",
   "metadata": {},
   "source": [
    "### Boucles et logique en Python\n",
    "\n",
    "La boucle **FOR** en Python s'écrit de la façon suivante:"
   ]
  },
  {
   "cell_type": "code",
   "execution_count": 10,
   "metadata": {},
   "outputs": [
    {
     "name": "stdout",
     "output_type": "stream",
     "text": [
      "0\n",
      "1\n",
      "2\n",
      "3\n",
      "4\n"
     ]
    }
   ],
   "source": [
    "for k in range(5):\n",
    "    print(k)"
   ]
  },
  {
   "cell_type": "markdown",
   "metadata": {},
   "source": [
    "Il y a plusieurs commentaires à faire ici:\n",
    "\n",
    "- la boucle affiche les numéros de 0 à 4, alors que l'on aurait pu s'attendre aux numéros de 1 à 5! Ceci est dû au fait (très important!) qu'en Python, les indices des listes, tableaux et autres \"itérables\" commencent à 0.\n",
    "- Grosso modo, `range(5)` renvoie une liste `[0,1,2,3,4]`. Donc la première ligne veut simplement dire \"pour k dans [0,1,2,3,4]\". \n",
    "- la première ligne se termine par `:` , il faut le mettre après chaque expression de ce type (voir plus bas)\n",
    "- la deuxième ligne (intérieur de la boucle) doit être décalée! Cela peut être un décalage d'une tabulation, 2 espaces, 4 espaces, etc. Choisissez ce que vous voulez, l'important c'est d'être consistant. La communauté recommande d'utiliser une tabulation = 4 espaces."
   ]
  },
  {
   "cell_type": "markdown",
   "metadata": {},
   "source": [
    "La condition **IF** en Python s'écrit de la façon suivante :"
   ]
  },
  {
   "cell_type": "code",
   "execution_count": 11,
   "metadata": {},
   "outputs": [
    {
     "name": "stdout",
     "output_type": "stream",
     "text": [
      "Ces deux propriétés sont vraies\n"
     ]
    }
   ],
   "source": [
    "if 2 > 0 and 6 > 4:\n",
    "    print(\"Ces deux propriétés sont vraies\")"
   ]
  },
  {
   "cell_type": "code",
   "execution_count": 12,
   "metadata": {},
   "outputs": [
    {
     "name": "stdout",
     "output_type": "stream",
     "text": [
      "Une de ces propriétés au moins est fausse\n"
     ]
    }
   ],
   "source": [
    "if 2 != 0 and 6 == 4:\n",
    "    print(\"Ces deux propriétés sont vraies\")\n",
    "else:\n",
    "    print(\"Une de ces propriétés au moins est fausse\")"
   ]
  },
  {
   "cell_type": "markdown",
   "metadata": {},
   "source": [
    "- Tout comme la boucle for, chaque \"phrase\" doit se terminer par un `:`. Cela concerne la ligne du `if`, mais aussi celle du `else`, si il y en a.\n",
    "- On indente toujours les instructions à l'intérieur du `if` ou `else`\n",
    "- On peut combiner plusieurs propositions syntaxiques avec `and` et `or`. On peut aussi utiliser des parenthèses pour les regrouper si besoin\n",
    "\n",
    "On peut évidemment combiner tout ceci:"
   ]
  },
  {
   "cell_type": "code",
   "execution_count": 13,
   "metadata": {},
   "outputs": [
    {
     "name": "stdout",
     "output_type": "stream",
     "text": [
      "k est pair\n",
      "k est impair\n",
      "k est pair\n",
      "k est impair\n",
      "k est pair\n"
     ]
    }
   ],
   "source": [
    "for k in range(5):\n",
    "    if k in [0,2,4]:\n",
    "        print(\"k est pair\")\n",
    "    else:\n",
    "        print(\"k est impair\")"
   ]
  },
  {
   "cell_type": "markdown",
   "metadata": {},
   "source": [
    "### Fonctions en Python\n",
    "\n",
    "La syntaxe pour définir des variables en python est assez simple:"
   ]
  },
  {
   "cell_type": "code",
   "execution_count": 14,
   "metadata": {},
   "outputs": [],
   "source": [
    "a = 3 # on définit une variable a que l'on affecte de la valeur 3"
   ]
  },
  {
   "cell_type": "code",
   "execution_count": 15,
   "metadata": {},
   "outputs": [],
   "source": [
    "b = a # on définit une nouvelle variable qui va prendre la même valeur que la première"
   ]
  },
  {
   "cell_type": "code",
   "execution_count": 16,
   "metadata": {},
   "outputs": [
    {
     "data": {
      "text/plain": [
       "5"
      ]
     },
     "execution_count": 16,
     "metadata": {},
     "output_type": "execute_result"
    }
   ],
   "source": [
    "b + 2 # on renvoie 3 + 2 "
   ]
  },
  {
   "cell_type": "markdown",
   "metadata": {},
   "source": [
    "Voyons maintenant comment définir une fonction en Python. Ici on veut une fonction qui renvoie le carré d'un nombre donné : "
   ]
  },
  {
   "cell_type": "code",
   "execution_count": 17,
   "metadata": {},
   "outputs": [],
   "source": [
    "def carré(n):\n",
    "    c = n**2 # on élève n au carré\n",
    "    return c # on renvoie c"
   ]
  },
  {
   "cell_type": "code",
   "execution_count": 18,
   "metadata": {},
   "outputs": [
    {
     "data": {
      "text/plain": [
       "16"
      ]
     },
     "execution_count": 18,
     "metadata": {},
     "output_type": "execute_result"
    }
   ],
   "source": [
    "carré(4)"
   ]
  },
  {
   "cell_type": "markdown",
   "metadata": {},
   "source": [
    "Comme vous pouvez le voir, la structure est assez simple:\n",
    "\n",
    "- On commence la définition d'une fonction avec `def`, suivi du nom de la fonction, puis entre parethèses les variables d'entrée. Et on n'oublie pas le `:` !\n",
    "- toutes les commandes à l'intérieur de la fonction sont indentées\n",
    "- A la fin de la fonction, on renvoie une ou des variables de sortie avec `return`\n",
    "\n",
    "Voyons un exemple avec plusieurs variables d'entrée et de sortie:"
   ]
  },
  {
   "cell_type": "code",
   "execution_count": 19,
   "metadata": {},
   "outputs": [],
   "source": [
    "def division_euclidienne(a,b):\n",
    "    # Renvoie le résultat de la division de a par b\n",
    "    # càd un quotient q et un reste r qui vérifient\n",
    "    # a = b*q + r, avec 0 <= r < b\n",
    "    \n",
    "    r = a % b # a modulo b\n",
    "    q = (a - r)/b\n",
    "    return q, r"
   ]
  },
  {
   "cell_type": "code",
   "execution_count": 20,
   "metadata": {},
   "outputs": [
    {
     "data": {
      "text/plain": [
       "(4.0, 1)"
      ]
     },
     "execution_count": 20,
     "metadata": {},
     "output_type": "execute_result"
    }
   ],
   "source": [
    "division_euclidienne(13,3) # on peut afficher toutes les variables de sortie"
   ]
  },
  {
   "cell_type": "code",
   "execution_count": 21,
   "metadata": {},
   "outputs": [],
   "source": [
    "q, r = division_euclidienne(13,3) # on peut mettre les variables de sortie directement dans des variables"
   ]
  },
  {
   "cell_type": "code",
   "execution_count": 22,
   "metadata": {},
   "outputs": [
    {
     "data": {
      "text/plain": [
       "4.0"
      ]
     },
     "execution_count": 22,
     "metadata": {},
     "output_type": "execute_result"
    }
   ],
   "source": [
    "q # on peut ensuite avoir accès à chaque variable de sortie"
   ]
  },
  {
   "cell_type": "markdown",
   "metadata": {},
   "source": [
    "Vous savez maintenant à peu près tout ce dont vous avez besoin pour commencer le TP.\n",
    "Voici quelques commandes python dont vous pourrez avoir besoin par la suite:\n",
    "\n",
    "| | |\n",
    "|-|-|\n",
    "|`a*b`| Calcule le produit $a\\times b$ |\n",
    "| `a**b` | Calcule $a^b$ |\n",
    "| `x=2` | Affecte $2$ à la variable `x` |\n",
    "| `np.random.randn()` | Génère un nombre aléatoire selon la loi normale |\n",
    "\n",
    "\n",
    "S'il s'avère que vous vous retrouviez coincés par la suite, n'hésitez pas à demander de l'aide.\n",
    "D'autre part, si vous voulez faire quelque chose, mais ne savez pas *comment* le faire, Google est votre ami! Je dis ça de manière non-ironique : la documentation sur Python en ligne est énorme, tant en français qu'en anglais, et taper simplement votre question dans un moteur de recherche vous donnera immédiatement la réponse que vous chrechez!\n",
    "\n"
   ]
  },
  {
   "cell_type": "markdown",
   "metadata": {},
   "source": [
    "# Le TP : Introduction\n",
    "\n",
    "Dans ce TP, on s'intéresse au problème suivant : *comment calculer des racines carrées rapidement?* Plus précisément, étant donné un nombre réel $a>0$, comment calculer rapidement (une bonne approximation de) $\\sqrt{a}$?\n",
    "\n",
    "Cette question peut paraître étrange au premier abord, puisque on vient de voir que Python est parfaitement capable de calculer des racines carrées avec la fonction `sqrt` de `numpy`. Mais ici la question n'est pas tant de savoir comment obtenir une racine carrée, que de le faire **rapidement**. \n",
    "\n",
    "En effet il existe des problèmes spécifiques qui requièrent de calculer des racines carrées **plusieurs millions de fois par seconde**, en temps réel. C'est par exemple le cas pour l'animation de synthèse (films Pixar), ou pour l'affichage de graphiques 3D dans les jeux vidéos, où une opération de base consiste à *normaliser* des vecteurs. Autrement dit, étant donné un vecteur $v \\in \\mathbb{R}^3$, à calculer sa direction normalisée $\\frac{v}{\\Vert v \\Vert}$. \n",
    "Or la norme euclidienne $\\Vert v \\Vert$ est égale à $\\sqrt{\\Vert v \\Vert^2}$, où $\\Vert v \\Vert^2 = \\sum_i v_i^2$ est facile à calculer.\n",
    "\n"
   ]
  },
  {
   "cell_type": "markdown",
   "metadata": {},
   "source": [
    "Considérons un exemple concret : en 1999 est sorti un jeu vidéo en 3D (Quake III Arena), dont le code source a été rendu public en 2004. Des personnes ont alors exploré le code source du jeu, et se sont rendues compte que les développeurs du jeu avaient codé une fonction `Quake_isqrt` (*isqrt* pour *inverse square root*) dont le but est de calculer l'inverse de la racine carrée d'un nombre $a$, c'est-à-dire $\\frac{1}{\\sqrt{a}}$ :\n",
    "\n",
    "| Quake III Arena | Le code original du jeu (traduit en Python) |\n",
    "| --- | --- |\n",
    "|<img src=\"https://miro.medium.com/max/600/1*vBFusX31Iwr5LYULQGolpQ.gif\" width=200px> | <img src=\"https://i.imgur.com/GJLMmvD.png\" width=600px> |"
   ]
  },
  {
   "cell_type": "markdown",
   "metadata": {},
   "source": [
    "Au premier coup d'oeil, ce code parait un peu mystérieux (voire mystique, de l'aveu même de la personne qui a programmé, au vu des commentaires laissés). Essayer de comprendre ce qu'il se passe avec cette fonction va nous servir d'excuse pour étudier lors de ce TP un algorithme très important : la méthode de Newton."
   ]
  },
  {
   "cell_type": "markdown",
   "metadata": {},
   "source": [
    "## I. Méthode de Newton pour calculer $\\sqrt{a}$\n",
    "\n",
    "Etant donné un nombre positif $a>0$, on cherche à calculer ${\\sqrt{a}}$ de manière approchée. Pour cela, on introduit la fonction $$f_a(x):= {x^2} - a,$$ qui vérifie la propriété: $$f_a(x)=0 \\ \\Leftrightarrow x = {\\pm\\sqrt{a}}.$$ Donc calculer cette racine carrée $\\sqrt{a}$ est équivalent à trouver un **zéro** de la fonction $f_a$.\n",
    "\n",
    "Pour cela, nous allons utiliser un [algorithme](https://fr.wikipedia.org/wiki/M%C3%A9thode_de_Newton) que l'on doit à [Newton](https://fr.wikipedia.org/wiki/Isaac_Newton), dont le but est de trouver un zéro d'une fonction dérivable $f: \\mathbb{R} \\to \\mathbb{R}$.\n",
    "Cet algorithme s'énonce de la manière suivante: étant donné un point de départ $x_0 \\in \\mathbb{R}$, construire la suite $(x_n)_{n \\in \\mathbb{N}}$ définie par\n",
    "\n",
    "\\begin{equation}\\label{D:Newton_algo}\n",
    "x_{n+1} = x_n - \\frac{f(x_n)}{f'(x_n)}. \\tag{1}\n",
    "\\end{equation}\n",
    "\n",
    "Alors, sous *certaines hypothèses*, la suite $x_n$ va converger, lorsque $n\\to +\\infty$, vers un point $x_\\infty$ qui est un zéro de $f$. Autrement dit, un point qui vérifie $f(x_\\infty)=0$. \n",
    "\n",
    "Dans cette première partie du TP nous allons:\n",
    "\n",
    "- Implémenter cette méthode,\n",
    "- Essayer de comprendre (expérimentalement) sous quelles conditions elle fonctionne."
   ]
  },
  {
   "cell_type": "markdown",
   "metadata": {},
   "source": [
    "**0)** On souhaite appliquer la méthode de Newton à la fonction $f_a$ introduite plus haut. Pour cela, vous devez calculer, à la main, l'expression de récurrence (1)."
   ]
  },
  {
   "cell_type": "markdown",
   "metadata": {},
   "source": [
    "**1)** Programmer une fonction `Newton_sqrt` sous la forme `Newton_sqrt(a,x0,nmax)` telle que:\n",
    "\n",
    "- les variables d'entrée sont\n",
    "    - `a`, le nombre dont on veut calculer la racine carrée\n",
    "    - `x0`, le point de départ de l'algorithme\n",
    "    - `nmax`, le nombre d'itérations maximal que l'on souhaite faire\n",
    "- la variable de sortie est l'itéré $x_{nmax}$ de la méthode de Newton. \n",
    "- la fonction implémente la méthode de Newton avec une boucle for sur le nombre des itérés.\n",
    "\n",
    "Vous pourrez au besoin vous référer à la documentation en ligne pour connaitre la syntaxe d'une [fonction](https://python.doctor/page-apprendre-creer-fonction-en-python) et d'une [boucle FOR](https://python.doctor/page-apprendre-boucles-python-loop)."
   ]
  },
  {
   "cell_type": "code",
   "execution_count": 23,
   "metadata": {},
   "outputs": [],
   "source": [
    "def Newton_sqrt(a, x0, nmax):\n",
    "    x = x0\n",
    "    for n in range(nmax):\n",
    "        # Ici on applique x <- x - f(x)/f'(x)\n",
    "        # Après calcul on voit que ça revient à faire x <- (x**2 - a)/(2*x)\n",
    "        x = (x**2 + a)/(2*x)\n",
    "    return x"
   ]
  },
  {
   "cell_type": "markdown",
   "metadata": {},
   "source": [
    "**2)** Supposons qu'on veuille tester la méthode avec $a=4$. Si tout marche bien, quelle est (au signe près) la valeur que la fonction est supposée renvoyer?\n",
    "\n",
    "Tester que votre méthode marche bien pour `a=4`, avec `nmax=100`, et divers points initiaux de votre choix. Est-ce que cela marche bien? Est-ce toujours le cas, quelque soit le point initial?"
   ]
  },
  {
   "cell_type": "code",
   "execution_count": 24,
   "metadata": {},
   "outputs": [
    {
     "data": {
      "text/plain": [
       "-2.0"
      ]
     },
     "execution_count": 24,
     "metadata": {},
     "output_type": "execute_result"
    }
   ],
   "source": [
    "a = 4\n",
    "nmax = 100\n",
    "x0 = 10*np.random.normal()\n",
    "x = Newton_sqrt(a,x0,nmax)\n",
    "x # on voit que ça converge toujours vers 2 ou -2, selon le signe de x0. Sauf si x0=0"
   ]
  },
  {
   "cell_type": "markdown",
   "metadata": {},
   "source": [
    "**3)** Tester la méthode pour `a=4`, avec `x0=10`, et cette fois-ci vous testerez diverses valeurs pour `nmax`. Faut-il faire beaucoup d'itérations pour obtenir un résultat raisonnable?"
   ]
  },
  {
   "cell_type": "code",
   "execution_count": 25,
   "metadata": {},
   "outputs": [
    {
     "data": {
      "text/plain": [
       "2.0060990407779586"
      ]
     },
     "execution_count": 25,
     "metadata": {},
     "output_type": "execute_result"
    }
   ],
   "source": [
    "a = 4\n",
    "nmax = 4\n",
    "x0 = 10\n",
    "x = Newton_sqrt(a,x0,nmax)\n",
    "x # dejà avec 4 itérations on est bien avec une erreur de l'ordre de 1E-3"
   ]
  },
  {
   "cell_type": "markdown",
   "metadata": {},
   "source": [
    "**4)** Au vu des questions précédentes, il semble que lorsque l'algorithme converge, il converge **vite**. Donc il n'y a pas besoin de faire beaucoup d'itérations pour obtenir un résultat satisfaisant.\n",
    "\n",
    "Cependant, ce nombre d'itérations peut fluctuer, et il n'est pas non plus une bonne idée de fixer une fois pour toutes un certain nombre d'itérations : si `nmax` rest trop grand on perd notre temps, si il est trop petit on n'obtient pas une très bonne solution. Il serait donc préférable d'avoir un critère qui *arrête* l'algorithme lorsqu'on est *proche de la solution*, afin d'économiser du temps de calcul. \n",
    "\n",
    "Vous allez donc reprendre le code de la fonction `Newton_sqrt`, et le modifier de telle façon:\n",
    "\n",
    "- la fonction va prendre un argument d'entrée supplémentaire `tol`. Ceci désigne une certaine tolérance que l'on exige pour la solution. Plus exactement, on veut que $\\vert f_a(x_n)\\vert < tol$.\n",
    "- La boucle qui fait tourner l'algorithme ne sera plus une boucle FOR mais une boucle WHILE. Vous pourrez au besoin vous référer à la documentation en ligne pour connaitre la syntaxe d'une [boucle WHILE](https://python.doctor/page-apprendre-boucles-python-loop).\n",
    "- On **arrêtera** l'algorithme dès lors que $n>nmax$ **ou** $\\vert f(x_n)\\vert < tol$. C'est à vous de déterminer comment écrire proprement la boucle WHILE, notamment quelle est la condition à vérifier pour pouvoir continuer à entrer dans la boucle. \n",
    "- Juste avant de renvoyer la solution, la fonction devra afficher un message, à l'aide de la fonction `print`, pour indiquer le nombre d'itérations qui ont été nécéssaires. Si vous ne savez pas comment faire cela, je vous conseille de tester à part comment faire. Vous pourrez également consulter la [doc](https://python.sdv.univ-paris-diderot.fr/03_affichage/).\n",
    "\n"
   ]
  },
  {
   "cell_type": "code",
   "execution_count": 26,
   "metadata": {},
   "outputs": [],
   "source": [
    "def Newton_sqrt(a, x0, nmax, tol):\n",
    "    x = x0\n",
    "    n = 0\n",
    "    test = tol + 1 # Ainsi on est surs de rentrer dans la boucle\n",
    "    while n <= nmax and test >= tol:\n",
    "        x = (x**2 + a)/(2*x)\n",
    "        test = abs(x**2 - a)\n",
    "        n = n+1\n",
    "    print(\"solution trouvée avec\", n, \"itérations\")\n",
    "    return x"
   ]
  },
  {
   "cell_type": "markdown",
   "metadata": {},
   "source": [
    "**5)** Tester que la fonction fonctionne, avec `a=4`, `nmax=100`, `x0=4` et `tol=1e-2`. On fera varier la valeur de `tol` et on regardera son impact sur le nombre d'itérations nécéssaires."
   ]
  },
  {
   "cell_type": "code",
   "execution_count": 27,
   "metadata": {},
   "outputs": [
    {
     "name": "stdout",
     "output_type": "stream",
     "text": [
      "solution trouvée avec 5 itérations\n"
     ]
    },
    {
     "data": {
      "text/plain": [
       "2.000000000000002"
      ]
     },
     "execution_count": 27,
     "metadata": {},
     "output_type": "execute_result"
    }
   ],
   "source": [
    "a = 4\n",
    "nmax = 100\n",
    "x0 = 4\n",
    "tol = 1e-12\n",
    "Newton_sqrt(a,x0,nmax,tol)\n",
    "# on voit que l'algorithme converge très vite, même pour une précision de 1e-12 il ne faut que 7 itérations !"
   ]
  },
  {
   "cell_type": "markdown",
   "metadata": {},
   "source": [
    "Pas mal non?"
   ]
  },
  {
   "cell_type": "markdown",
   "metadata": {},
   "source": [
    "## II. Méthode de Newton pour $1/\\sqrt{a}$\n",
    "\n",
    "Etant donné un nombre positif $a>0$, on veut calculer $\\frac{1}{\\sqrt{a}}$ de manière approchée. La raison pour cela est que dans le problème d'images 3D mentionné précédemment, on voulait normaliser des vecteurs $v$, et donc calculer $\\frac{v}{\\sqrt{a}}$ avec $a = \\sum_i v_i^2$.\n",
    "\n",
    "On pourrait légitimement se demander **pourquoi** faire ça alors qu'on a déjà trouvé une méthode qui calcule $\\sqrt{a}$ !? Il suffit de faire `1/Newton_sqrt(a,x0,nmax,tol)` non? En fait, c'est un peu plus compliqué que ça:\n",
    "\n",
    "1. La division est une opération qui coûte *cher* en comparaison avec l'addition et la multiplication. Bon, si vous faites une ou deux divisions vous n'allez pas vraiement vous en rendre compte, mais quand vous devez en faire plusieurs millions par seconde, la différence commence à se faire sentir...\n",
    "2. Calculer $\\frac{1}{\\sqrt{a}}$ à partir de $\\sqrt{a}$ requiert une division *évidente*. Mais cela ne s'arrête pas là! Par exemple, regardez votre code pour la fonction `Newton_sqrt`. Il y a une division à chque étape de la boucle!\n",
    "3. Maintenant, si on repart de zéro et qu'on cherche à calculer directement $\\frac{1}{\\sqrt{a}}$ avec la méthode de Newton, on va voir qu'il n'y a **pas besoin de divisions** (c'est magique).\n",
    "\n",
    "\n"
   ]
  },
  {
   "cell_type": "markdown",
   "metadata": {},
   "source": [
    "**0)** Revenons donc à notre problème, qui est de calculer $\\frac{1}{\\sqrt{a}}$ avec la méthode de Newton. Pour cela il nous faut d'abord trouver une fonction qui s'annule seulement en $\\frac{1}{\\sqrt{a}}$.\n",
    "On introduit donc la fonction $$f_a(x):= \\frac{1}{x^2} - a,$$ qui vérifie la propriété $$f_a(x)=0 \\Leftrightarrow x = \\pm \\frac{1}{\\sqrt{a}}.$$ Donc calculer cette inverse de racine carrée est équivalent à trouver un zéro de la fonction $f_a$.\n",
    "\n",
    "- Ecrire sur papier la relation de récurence qui définit l'algorithme de Newton appliqué à cette fonction. Vérifier qu'il n'y a pas besoin de faire de divisions.\n",
    "- Retournez voir la fonction `Quake_isqrt` mentionnée au début du TP, et regardez ses deux dernières lignes. Comprenez-vous maintenant ce que font ces lignes?"
   ]
  },
  {
   "cell_type": "markdown",
   "metadata": {},
   "source": [
    "**1)** En se basant sur le squelette de `Newton_sqrt`, programmer une fonction `Newton_isqrt` (*isqrt* pour *inverse square root*) sous la forme `Newton_isqrt(a,x0,nmax,tol)` qui :\n",
    "- prend en entrée une valeur `a`, un point de départ `x0`, un nombre d'itérations maximal `nmax` et une tolérance `tol`\n",
    "- applique la méthode de Newton calculée à la question précédente, avec une boucle WHILE\n",
    "- arrête l'algorithme lorsque $n>nmax$ **ou** $\\vert f_a(x_n)\\vert < tol$\n",
    "- indique combien d'itérations ont été effectuées\n",
    "- renvoie l'approximation `x` calculée par la méthode de Newton"
   ]
  },
  {
   "cell_type": "code",
   "execution_count": 28,
   "metadata": {},
   "outputs": [],
   "source": [
    "def Newton_isqrt(a, x0, nmax, tol):\n",
    "    x = x0\n",
    "    n = 0\n",
    "    test = tol + 1 # Ainsi on est surs de rentrer dans la boucle\n",
    "    while n <= nmax and test >= tol:\n",
    "        # Ici on applique x <- x - f(x)/f'(x)\n",
    "        # Après calcul on voit que ça revient à faire x <- x*(3 - x^2*a)/2. Pas de divisions !\n",
    "        x = x*(3 - a*x**2)/2\n",
    "        #print(x)\n",
    "        test = abs((1/x**2) - a)\n",
    "        n = n+1\n",
    "    print(\"solution trouvée avec\", n, \"itérations\")\n",
    "    return x"
   ]
  },
  {
   "cell_type": "markdown",
   "metadata": {},
   "source": [
    "**2.1)** Supposons qu'on veuille tester la méthode avec $a=4$. Si tout marche bien, quelle est (au signe près) la valeur que la fonction est supposée renvoyer? Soyez attentifs!\n",
    "\n",
    "Vérifiez que la méthode marche avec `a=2`, `tol = 10**-8`, `nmax = 100` et `x0 = 1`."
   ]
  },
  {
   "cell_type": "code",
   "execution_count": 29,
   "metadata": {},
   "outputs": [
    {
     "name": "stdout",
     "output_type": "stream",
     "text": [
      "solution trouvée avec 1 itérations\n"
     ]
    },
    {
     "data": {
      "text/plain": [
       "-0.5"
      ]
     },
     "execution_count": 29,
     "metadata": {},
     "output_type": "execute_result"
    }
   ],
   "source": [
    "a=4\n",
    "tol=10**-8\n",
    "nmax=100\n",
    "x0=1 # Pour 0.1 ça converge, pour 1.5 la suite diverge, donc 1/x_n^2 tend vers 0\n",
    "Newton_isqrt(a,x0,nmax,tol)"
   ]
  },
  {
   "cell_type": "markdown",
   "metadata": {},
   "source": [
    "**2.2)** On s'intéresse maintenant au comportement de la méthode en fonction de l'initialisation `x0`. En gardant les mêmes paramètres que précédemment, on testera des valeurs comme 0.1, 0.2, ... 1.5. Que constatez-vous?\n",
    "\n",
    "Si vous voulez comprendre ce qui se passe, il vous faudrait savoir comment évolue $x_n$ lorsque l'algorithme tourne. Vous pouvez par exemple temporairement ajouter une ligne `print(x)` dans la boucle WHILE (à adapter selon vos notations)."
   ]
  },
  {
   "cell_type": "code",
   "execution_count": 30,
   "metadata": {},
   "outputs": [
    {
     "name": "stdout",
     "output_type": "stream",
     "text": [
      "solution trouvée avec 7 itérations\n"
     ]
    },
    {
     "data": {
      "text/plain": [
       "np.float64(0.49999999999999994)"
      ]
     },
     "execution_count": 30,
     "metadata": {},
     "output_type": "execute_result"
    }
   ],
   "source": [
    "a=4\n",
    "tol=10**-8\n",
    "nmax=100\n",
    "x0=np.sqrt(5/(3*a))+0.1 # Avant 1.1 ça converge, après ça diverge, on voit que x_n tend vers vers +/- infini\n",
    "Newton_isqrt(a,x0,nmax,tol)"
   ]
  },
  {
   "cell_type": "markdown",
   "metadata": {},
   "source": [
    "**3)** Au vu de la question précédente, on voit que pour cette fonction l'initialisation est *très* importante. En fait la théorie garantit, de manière générale, que l'algorithme de Newton ne converge vers une solution que s'il est initialisé *suffisament proche* d'une solution. \n",
    "\n",
    "- Evidemment, il y a des cas favorables où tout se passe bien. Regardez par exemple la partie I du TP où il n'y avait aucun problème!\n",
    "- Il est impossible de savoir à l'avance exactement quels sont les `x0` qui vont permettre de converger, et ceux qui vont diverger. Et même dans des cas simples, la répartition entre \"bons\" points initiaux `x0` et \"mauvais\" peut faire apparaitre des [fractales](https://fr.wikipedia.org/wiki/Fractale_de_Newton) ... \n",
    "\n",
    "Du coup, retournons voir ce code issu du jeu vidéo Quake:\n",
    "\n",
    "| |\n",
    "| --- |\n",
    "|<img src=\"https://i.imgur.com/GJLMmvD.png\" width=600px> |\n",
    "\n",
    "On comprend bien que la dernière ligne (plus celle commentée) correspondent à une étape de l'algorithme de Newton appliquée au nombre `x`. Donc on peut supposer que toutes les lignes bizarres qui précèdent servent à calculer une initialisation de l'algorithme à partir de `a`. Une initialisation tellement bonne qu'on a besoin que d'une seule itération de la méthode de Newton! Deux commentaires à ce propos:\n",
    "\n",
    "- Nous n'avons pas pour objectif ici de comprendre comment se fait cette initialisation. Ce n'est pas franchement très important, ni facile à comprendre. Si vous êtes curieux/curieuse, vous pourrez aller jeter un oeil plus tard à [ceci](https://fr.wikipedia.org/wiki/Racine_carr%C3%A9e_inverse_rapide) ou [cela](https://www.blog-libre.org/2015/12/15/la-mysterieuse-fonction-racine-carree-inverse-de-quake-3/).\n",
    "- Par contre il serait intéressant de vérifier que cela marche bien! C'est ce que l'on fait dans la prochaine question:\n",
    "\n"
   ]
  },
  {
   "cell_type": "markdown",
   "metadata": {},
   "source": [
    "**4)** Vous trouverez ci-dessous une fonction implémentant l'initialisation *magique* utilisée par les développeurs. Utiliser cette fonction, combinée à votre fonction `Newton_isqrt`, dans les mêmes conditions qu'à la question 2). Que constatez-vous? \n",
    "\n",
    "En restreignant le nombre d'itérations maximal à 1, que pensez-vous de la solution ainsi obtenue?"
   ]
  },
  {
   "cell_type": "code",
   "execution_count": 31,
   "metadata": {},
   "outputs": [],
   "source": [
    "def Quake_initial(a):\n",
    "    x0 = np.float32(a)\n",
    "    i = x0.view(np.int32)\n",
    "    i = np.int32(0x5f3759df) - np.int32(i >> 1)\n",
    "    x0 = i.view(np.float32)\n",
    "    return float(x0)"
   ]
  },
  {
   "cell_type": "code",
   "execution_count": 32,
   "metadata": {},
   "outputs": [
    {
     "name": "stdout",
     "output_type": "stream",
     "text": [
      "solution trouvée avec 3 itérations\n"
     ]
    },
    {
     "data": {
      "text/plain": [
       "0.49999999998615713"
      ]
     },
     "execution_count": 32,
     "metadata": {},
     "output_type": "execute_result"
    }
   ],
   "source": [
    "a=4\n",
    "tol=10**-8\n",
    "nmax=100\n",
    "x0 = Quake_initial(a)\n",
    "Newton_isqrt(a,x0,nmax,tol)"
   ]
  },
  {
   "cell_type": "code",
   "execution_count": 33,
   "metadata": {},
   "outputs": [
    {
     "name": "stdout",
     "output_type": "stream",
     "text": [
      "solution trouvée avec 2 itérations\n"
     ]
    },
    {
     "data": {
      "text/plain": [
       "0.4999978519059221"
      ]
     },
     "execution_count": 33,
     "metadata": {},
     "output_type": "execute_result"
    }
   ],
   "source": [
    "a=4\n",
    "tol=10**-8\n",
    "nmax=1\n",
    "x0 = Quake_initial(a)\n",
    "Newton_isqrt(a,x0,nmax,tol)"
   ]
  },
  {
   "cell_type": "code",
   "execution_count": null,
   "metadata": {},
   "outputs": [],
   "source": []
  },
  {
   "cell_type": "markdown",
   "metadata": {},
   "source": [
    "## III. Pour aller plus loin : Comparaison avec une approche plus simple, une méthode de dichotomie"
   ]
  },
  {
   "cell_type": "markdown",
   "metadata": {},
   "source": [
    "Revenons au problème de calculer $\\sqrt{a}$. Au lieu de partir sur des choses aussi compliquées que la méthode de Newton, on pourrait se dire qu'il serait bien plus simple de chercher la solution dans un certain intervalle, en y mettant une grille, ou plus efficacement, en faisant une recherche de *dichotomie*. \n",
    "\n",
    "\n",
    "Ici encore, on va rechercher les zéros de la fonction $f_a(x)=x^2-a$.\n",
    "\n",
    "La méthode de dichotomie consiste à se donner un intervalle $[m,M]$ dans lequel on recherche un $x$ tel que $f(x)=0$. Afin d'être sûrs qu'il existe une solution sur cet intervalle, on demandera que $f(m)$ et $f(M)$ soient de signe opposé (le théorème des valeurs intérmédiaires nous garantissant alors l'existence d'une solution). La méthode peut s'énoncer comme suit, en fonction d'un paramètre de tolérance:\n",
    "\n",
    "```\n",
    "Vérifier que f(m)f(M) < 0\n",
    "Tant que tol < M-m # tant que notre intervalle est trop gros\n",
    "    x = (M+m)/2 # on prend le point milieu\n",
    "    Si f(m)f(x) < 0, # si il y a encore une solution dans l'intervalle [m,x]\n",
    "        alors M <-- x, # on rétrécit l'intervalle à [m,x]\n",
    "        sinon m <-- x # sinon forcément la solution est de l'autre coté donc on rétrécit à l'intervalle [x,M]\n",
    "```"
   ]
  },
  {
   "cell_type": "markdown",
   "metadata": {},
   "source": [
    "**1)** Définir une fonction `dichotomie(a,m,M,tol)` pour résoudre $f_a(x)=0$ sur un intervalle [m,M], et qui renvoie une solution approchée `x`. La fonction affichera également le nombre d'itérations nécessaires pour le trouver."
   ]
  },
  {
   "cell_type": "code",
   "execution_count": null,
   "metadata": {},
   "outputs": [],
   "source": []
  },
  {
   "cell_type": "code",
   "execution_count": 34,
   "metadata": {},
   "outputs": [],
   "source": [
    "def f(a,x):\n",
    "    return x*x - a\n",
    "\n",
    "def dichotomie(a, m, M, tol):\n",
    "    if f(a,m)*f(a,M) >= 0: # On checke qu'on peut utiliser le T.V.I.\n",
    "        print(\"La fonction doit être de signe opposé en m et M\")\n",
    "        return\n",
    "    n=0;\n",
    "    while tol < M-m:\n",
    "        x = (m+M)/2\n",
    "        if f(a,m)*f(a,x) < 0:\n",
    "            M=x\n",
    "        else:\n",
    "            m=x\n",
    "        n=n+1; # nombre d'itérations effectuées    \n",
    "    print(\"nombre d'itérations pour la dichotomie:\", n)\n",
    "    return x"
   ]
  },
  {
   "cell_type": "markdown",
   "metadata": {},
   "source": [
    "**2)** Tester cette fonction `dichotomie` avec $a=4$, $m=0,\\ M=4$ et avec différentes valeurs de la tolérance $10^{-2},10^{-3},10^{-4},10^{-5}$... Noter le nombre d'itérations $n$ et contrôler le résultat."
   ]
  },
  {
   "cell_type": "code",
   "execution_count": 35,
   "metadata": {},
   "outputs": [
    {
     "name": "stdout",
     "output_type": "stream",
     "text": [
      "nombre d'itérations pour la dichotomie: 46\n"
     ]
    },
    {
     "data": {
      "text/plain": [
       "3.999999999999943"
      ]
     },
     "execution_count": 35,
     "metadata": {},
     "output_type": "execute_result"
    }
   ],
   "source": [
    "a=4\n",
    "m=0\n",
    "M=4\n",
    "tol = 1e-13\n",
    "dichotomie(a, m, M, tol)"
   ]
  },
  {
   "cell_type": "markdown",
   "metadata": {},
   "source": [
    "**3)** Comparer les méthodes de Newton et Dichotomie, et déterminer laquelle est la plus rapide?"
   ]
  },
  {
   "cell_type": "code",
   "execution_count": 36,
   "metadata": {},
   "outputs": [
    {
     "name": "stdout",
     "output_type": "stream",
     "text": [
      "nombre d'itérations pour la dichotomie: 42\n",
      "solution trouvée avec 5 itérations\n"
     ]
    },
    {
     "data": {
      "text/plain": [
       "2.000000000000002"
      ]
     },
     "execution_count": 36,
     "metadata": {},
     "output_type": "execute_result"
    }
   ],
   "source": [
    "a=4\n",
    "m=0\n",
    "M=4\n",
    "tol = 1e-12\n",
    "dichotomie(a, m, M, tol)\n",
    "Newton_sqrt(a, 4, 100, tol)"
   ]
  },
  {
   "cell_type": "markdown",
   "metadata": {},
   "source": [
    "## Fin du TP!\n",
    "\n",
    "Pensez à sauvegarder ou télécharger votre code, sinon il sera perdu!"
   ]
  },
  {
   "cell_type": "code",
   "execution_count": null,
   "metadata": {},
   "outputs": [],
   "source": []
  },
  {
   "cell_type": "code",
   "execution_count": null,
   "metadata": {},
   "outputs": [],
   "source": []
  },
  {
   "cell_type": "code",
   "execution_count": null,
   "metadata": {},
   "outputs": [],
   "source": []
  },
  {
   "cell_type": "code",
   "execution_count": null,
   "metadata": {},
   "outputs": [],
   "source": []
  },
  {
   "cell_type": "code",
   "execution_count": null,
   "metadata": {},
   "outputs": [],
   "source": []
  },
  {
   "cell_type": "code",
   "execution_count": null,
   "metadata": {},
   "outputs": [],
   "source": []
  },
  {
   "cell_type": "code",
   "execution_count": null,
   "metadata": {},
   "outputs": [],
   "source": []
  },
  {
   "cell_type": "code",
   "execution_count": null,
   "metadata": {},
   "outputs": [],
   "source": []
  },
  {
   "cell_type": "code",
   "execution_count": null,
   "metadata": {},
   "outputs": [],
   "source": []
  },
  {
   "cell_type": "code",
   "execution_count": null,
   "metadata": {},
   "outputs": [],
   "source": []
  },
  {
   "cell_type": "code",
   "execution_count": null,
   "metadata": {},
   "outputs": [],
   "source": []
  },
  {
   "cell_type": "code",
   "execution_count": null,
   "metadata": {},
   "outputs": [],
   "source": []
  },
  {
   "cell_type": "code",
   "execution_count": null,
   "metadata": {},
   "outputs": [],
   "source": []
  },
  {
   "cell_type": "code",
   "execution_count": null,
   "metadata": {},
   "outputs": [],
   "source": []
  }
 ],
 "metadata": {
  "kernelspec": {
   "display_name": "Python 3 (ipykernel)",
   "language": "python",
   "name": "python3"
  },
  "language_info": {
   "codemirror_mode": {
    "name": "ipython",
    "version": 3
   },
   "file_extension": ".py",
   "mimetype": "text/x-python",
   "name": "python",
   "nbconvert_exporter": "python",
   "pygments_lexer": "ipython3",
   "version": "3.11.5"
  }
 },
 "nbformat": 4,
 "nbformat_minor": 4
}
