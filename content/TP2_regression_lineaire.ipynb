{
 "cells": [
  {
   "cell_type": "markdown",
   "metadata": {},
   "source": [
    "<p hidden>Here are some Latex definitions</p> \n",
    "\n",
    "$\\newcommand{\\R}{\\mathbb{R}}$\n",
    "$\\newcommand{\\N}{\\mathcal{N}}$\n",
    "$\\newcommand{\\RR}{\\mathbb{R}}$\n",
    "$\\newcommand{\\E}{\\mathbb{E}}$\n",
    "$\\newcommand{\\Mm}{\\mathcal{M}}$"
   ]
  },
  {
   "cell_type": "markdown",
   "metadata": {
    "tags": []
   },
   "source": [
    "# TP 2 : Modélisation d'un problème de régression linéaire"
   ]
  },
  {
   "cell_type": "markdown",
   "metadata": {},
   "source": [
    "# Un problème pratique : détection de la qualité d'un vin\n",
    "\n",
    "On s'intéresse au problème suivant : vous voulez être de capable de prédire si un vin va plaire aux consommateurs.\n",
    "\n",
    "| Choisir un bon vin : facile ?|\n",
    "| --- |\n",
    "|![](images/vin_choix.png)|\n",
    "\n",
    "Pour cela, vous allez vous baser sur des propriétés **chimiques** du vin, qui sont des mesures objectives de son contenu.\n",
    "Par exemple l'acidité du vin, sa teneur en sulfites, son taux d'alcool, etc. \n",
    "\n",
    "Vous avez donc constitué une *base de donnée* (un gros tableur donc), dans laquelle :\n",
    "- d'un coté vous avez fait vos mesures sur une liste de vins, ce qui vous donne une dizaines de valeurs que vous enregistrez quelque part;\n",
    "- de l'autre vous avez demandé à des consommateurs de donner une note au vin (disons entre 0 et 10). \n",
    "\n",
    "A partir de tout cela vous voulez construire une fonction de *prédiction* qui, étant donné les propriétés chimiques d'un nouveau vin qui arrive sur le marché (et pour lequel vous n'avez pas encore de note), renvoie une note prédite pour le vin concerné. \n",
    "Par exemple, on peut imaginer que si la plupart des gens n'aiment pas les vins acides, un nouveau vin ayant une acidité élevée aura une note prédite faible.\n",
    "Toute ressemblance avec une [application existante](https://en.wikipedia.org/wiki/Vivino) serait totalement fortuite.\n",
    "\n",
    "# Introduction : Le problème de régression\n",
    "\n",
    "Le problème décrit ci-dessus est un cas particulier de nombreux problèmes que l'on rencontre en économie, physique,  biologie ou  en intelligence artificielle : on possède un jeu de donnèes expérimentales à partir duquel  on cherche à **extrapoler** une loi de comportement que l'on va appliquer à de futures données réelles.\n",
    "Typiquement, ce jeu de données se présente sous la forme de couples $(a_1,b_1),\\cdots,(a_m,b_m) \\in \\R^p \\times \\R$ \n",
    "et l'on cherche une Relation de la forme $b=R(a)$ reliant ces couples. Grosso modo, si on veut savoir ce \"qu'est\" $a$, ou \"combien vaut\" $a$, on le donne à la fonction de prédiction $R$ qui nous fournit une réponse.\n",
    "\n",
    "On veut donc trouver $R:\\R^p \\rightarrow \\R$ telle que\n",
    "\\begin{equation}\\label{Probleme}\n",
    "(\\forall i\\in\\{1,\\cdots,m\\}) \\quad R(a_i) \\simeq b_i.\\tag{P}\n",
    "\\end{equation}\n",
    "\n",
    "Voici quelques exemples de tels problèmes:\n",
    "- chaque $a_i$ est une image, et chaque $b_i$ est un nombre entier qui correspond à une catégorie d'image. Par exemple 1=chat, 2=chien, 3=avion.\n",
    "Dans ce cas, un fois que l'on a trouvé $R$, on possède une fonction qui est capable de décrire le contenu d'une image.\n",
    "- chaque $a_i$ est un vecteur contenant des coordonnées dans l'espace et le temps, et chaque $b_i$ est un nombre réel correspondant à la température mesurée en l'endroit/moment indiqué par $a_i$.\n",
    "Dans ce cas, une fois que l'on a trouvé $R$, on possède une fonction qui est capable de prédire la température qu'il fait/fera.\n",
    "- chaque $a_i$ est un vecteur dont la dizaine de coordonnées correspond aux valeurs de mesures chimiques d'un vin $i$, et $b_i$ est la note moyenne attribuée par des testeurs/utilisateurs.\n",
    "\n",
    "Dans ce TP nous allons voir quelques stratégies pour arriver à résoudre ce type de problème \\eqref{Probleme}. Dans un second temps, nous appliquerons ces stratégies à notre problème oenologique."
   ]
  },
  {
   "cell_type": "markdown",
   "metadata": {},
   "source": [
    "# I. Un problème de moindres carrés\n",
    "\n",
    "Etant donné un jeu de données $(a_1,b_1),\\cdots,(a_m,b_m) \\in \\R^p \\times \\R$, on cherche donc une fonction $R : \\mathbb{R}^p \\rightarrow \\R$ telle que $R(a_i) \\simeq b_i$ pour tout $i$.\n",
    "Ce problème est mal posé, car l'ensemble de toutes les fonctions de $\\R^p \\to \\R$ est **trop grand**, ce qui veut dire qu'il y a potentiellement une infinité de solutions.\n",
    "\n",
    "| Le problème du choix de $R$ |\n",
    "| --- |\n",
    "| ![](images/many_choices.png) |\n",
    "| Laquelle des fonctions bleue ou orange représente le mieux le jeu de données (en rouge)? Dans l'absolu il n'y a objectivement pas de bonne réponse à cette question... En moins que vous n'en sachiez plus à propos du problème. |\n",
    "\n",
    "\n",
    "\n",
    "On va donc restreindre notre recherche à un sous-ensemble de fonctions plus simples: on fait ici **l'hypothèse de modélisation** que la fonction $R$ que l'on recherche est *affine* :\n",
    "- d'une part ce sera facile à implémenter\n",
    "- d'autre part l'espace des fonctions affines est relativement \"petit\", donc il y a des chances que l'on aie une solution unique à notre problème.\n",
    "\n",
    "| Oui mais si ça se trouve c'est une hypothèse un peu abusive? |\n",
    "| --- |\n",
    "| On s'en inquiétera plus tard, lorsqu'on testera notre solution sur nos données, quitte à changer d'hypothèse par la suite. |"
   ]
  },
  {
   "cell_type": "code",
   "execution_count": null,
   "metadata": {},
   "outputs": [],
   "source": [
    "import numpy as np\n",
    "from numpy import linalg as la\n",
    "import matplotlib.pyplot as plt"
   ]
  },
  {
   "cell_type": "markdown",
   "metadata": {},
   "source": [
    "Quelques commandes qui vous seront utiles\n",
    "\n",
    "| | |\n",
    "|-|-|\n",
    "|`np.array([1, 2, 3])`| Définit un vecteur 1D |\n",
    "| `np.array([[1, 2, 3], [4, 5, 6]])` | Définit une matrice 2D dans $\\mathcal{M}_{2,3}(\\mathbb{R})$ |\n",
    "| `x[2]` | Renvoie le 3e coefficient du vecteur 1D `x` |\n",
    "| `A.T` | Transpose la matrice `A` |\n",
    "| `A@x` ou `A@B` | Calcule le produit matriciel entre `A` et `x` (ou `A` et `B`) |\n",
    "| `x + 2` | Ajoute 2 à tous les coefficients du vecteur `x` |\n",
    "| `np.trace(A)` | Calcule la trace de `A` |\n",
    "| `la.det(A)` | Calcule le déterminant de `A` |\n",
    "| `la.eig(A)[0]` | Renvoie les valeurs propres de la matrice symétrique `A` |\n",
    "\n"
   ]
  },
  {
   "cell_type": "markdown",
   "metadata": {},
   "source": [
    "**I.1)** On définit ci dessous un (petit) jeu de données $a=(a_1,\\cdots, a_m)$, $b=(b_1,\\cdots,b_m)$, avec $m=4$. On pourra visualiser ces points dans le plan avec la fonction `plt.scatter`"
   ]
  },
  {
   "cell_type": "code",
   "execution_count": null,
   "metadata": {},
   "outputs": [],
   "source": [
    "a = np.array([0.2, 0.7, 2, 3.5])\n",
    "b = np.array([-14.5, -9, 0, 5])"
   ]
  },
  {
   "cell_type": "code",
   "execution_count": null,
   "metadata": {},
   "outputs": [],
   "source": []
  },
  {
   "cell_type": "markdown",
   "metadata": {},
   "source": [
    "**I.2)** Essayez de trouver une \"bonne\" fonction affine approximant ces points. Autrement dit, essayez de trouver de bons coefficients $\\alpha \\in \\mathbb{R}$, $\\beta \\in \\mathbb{R}$, tels que la fonction affine $R(x) = \\alpha x + \\beta$ vérifie $R(a_i) \\simeq b_i$. \n",
    "\n",
    "Vous pourrez essayer de prendre les coefficients de votre choix, visualiser si la droite est \"bonne\" ou pas, et éventuellement ajuster vos coefficients. On n'attend pas un résultat parfait."
   ]
  },
  {
   "cell_type": "code",
   "execution_count": null,
   "metadata": {},
   "outputs": [],
   "source": [
    "# choisissez les paramètres de la droite affine \n",
    "alpha = 0\n",
    "beta = 0"
   ]
  },
  {
   "cell_type": "code",
   "execution_count": null,
   "metadata": {},
   "outputs": [],
   "source": [
    "abscisses = np.arange(0, 4, 0.1) # intervalle [0,4[ par pas de 0.1\n",
    "ordonnees = alpha*abscisses + beta\n",
    "\n",
    "plt.scatter(a, b)\n",
    "plt.plot(abscisses, ordonnees, color='orange')"
   ]
  },
  {
   "cell_type": "markdown",
   "metadata": {},
   "source": [
    "**I.3)** Choisir $(\\alpha,\\beta)$ à la main est assez laborieux! En plus, il n'est pas clair comment déterminer quelle est la meilleure droite! On va maintenant essayer de **modéliser** le problème et le transformer en un **problème d'optimisation** à résoudre:\n",
    "\n",
    "1. Tout d'abord, on veut $R(a_i) \\simeq b_i$. Donc cela veut dire que l'on veut que la distance $\\vert R(a_i) - b_i \\vert$ soit la plus petite possible.\n",
    "\n",
    "2. Ensuite, on veut que ceci soit vrai pour *tous* les couples $(a_i,b_i)$. Une façon de dire ça est de dire qu'on veut que la *somme* $\\sum\\limits_{i=1}^m \\vert R(a_i) - b_i \\vert$ soit la plus petite possible.\n",
    "\n",
    "3. De plus, cette quantité ne dépend que du choix de la fonction $R$, que l'on suppose affine, càd de la forme $R(a) = \\alpha a + \\beta$. Donc on cherche un couple $(\\alpha,\\beta) \\in \\mathbb{R}\\times \\mathbb{R}$ qui minimise :\n",
    "$$ \\text{minimiser}_{(\\alpha,\\beta) \\in \\mathbb{R}\\times \\mathbb{R}} \\ \\sum\\limits_{i=1}^m \\vert \\alpha a_i + \\beta - b_i \\vert$$\n",
    "\n",
    "4. On voit qu'on a un problème d'optimisation! Par contre la fonction n'a pas l'air différentiable en $\\alpha$ et $\\beta$ à cause des valeurs absolues; on peut contourner ce problème en considérant des distances au carré :\n",
    "\\begin{equation}\\label{E:MC}\n",
    "    \\text{minimiser}_{(\\alpha,\\beta) \\in \\mathbb{R}\\times \\mathbb{R}} \\ \\sum\\limits_{i=1}^m \\vert \\alpha a_i + \\beta - b_i \\vert^2 \\tag{MC}\n",
    "\\end{equation}\n",
    "Le problème d'optimisation qu'on vient d'obtenir est appelé **problème des moindres carrés**.\n",
    "\n",
    "**I.4)** Vérifier que le problème des moindres carrés $\\eqref{E:MC}$ peut s'écrire de manière équivalente en\n",
    "\n",
    "\\begin{equation*}\n",
    "    \\text{minimiser}_{x \\in \\mathbb{R}^2} \\ f(x) = \\Vert \\Phi x - y \\Vert^2, \n",
    "\\end{equation*}\n",
    "\n",
    "$\\\n",
    "    \\text{ avec } \n",
    "    \\Phi = \\begin{pmatrix}\n",
    "    a_1 & 1 \\\\\n",
    "    \\vdots & \\vdots \\\\\n",
    "    a_m & 1\n",
    "    \\end{pmatrix}, \\\n",
    "    x = \\begin{pmatrix}\n",
    "    \\alpha \\\\\n",
    "    \\beta\n",
    "    \\end{pmatrix}, \\\n",
    "    y = \\begin{pmatrix}\n",
    "    b_1 \\\\\n",
    "    \\vdots \\\\\n",
    "    b_m\n",
    "    \\end{pmatrix}.$"
   ]
  },
  {
   "cell_type": "markdown",
   "metadata": {},
   "source": [
    "**I.5)** Définissez $\\Phi$ (`Phi`) et $y$ en fonction des données de la première question. Pensez à bien respecter l'orientation de ces matrices!"
   ]
  },
  {
   "cell_type": "code",
   "execution_count": null,
   "metadata": {},
   "outputs": [],
   "source": []
  },
  {
   "cell_type": "markdown",
   "metadata": {},
   "source": [
    "**I.6)** Vérifiez que la matrice $\\Phi^\\top \\Phi$ est définie positive. Il y a plein de façons de faire ça! "
   ]
  },
  {
   "cell_type": "code",
   "execution_count": null,
   "metadata": {},
   "outputs": [],
   "source": []
  },
  {
   "cell_type": "code",
   "execution_count": null,
   "metadata": {},
   "outputs": [],
   "source": []
  },
  {
   "cell_type": "markdown",
   "metadata": {},
   "source": [
    "**I.7)** Déduisez-en, en utilisant le cours, que le minimiseur $x=(\\alpha, \\beta)^\\top$ de $f(x) = \\Vert \\Phi x - y \\Vert^2$ que l'on cherche est solution du système linéaire $\\Phi^\\top \\Phi x = \\Phi^\\top y$. \n",
    "Trouvez ce vecteur en utilisant la fonction `la.solve(A,b)` qui résoud les équations $Ax=b$."
   ]
  },
  {
   "cell_type": "code",
   "execution_count": null,
   "metadata": {},
   "outputs": [],
   "source": []
  },
  {
   "cell_type": "markdown",
   "metadata": {},
   "source": [
    "**I.8)** Maintenant que vous avez obtenu un $x = (\\alpha,\\beta)^\\top$ optimal, visualisez ce que cela donne, à l'instar de la question I.2). Êtes-vous satisfait$\\cdot$e du résultat?"
   ]
  },
  {
   "cell_type": "code",
   "execution_count": null,
   "metadata": {},
   "outputs": [],
   "source": []
  },
  {
   "cell_type": "code",
   "execution_count": null,
   "metadata": {},
   "outputs": [],
   "source": []
  },
  {
   "cell_type": "markdown",
   "metadata": {},
   "source": [
    "## II. Détection de la qualité d'un vin : acquisition et exploration des données"
   ]
  },
  {
   "cell_type": "code",
   "execution_count": null,
   "metadata": {},
   "outputs": [],
   "source": [
    "import pandas as pd"
   ]
  },
  {
   "cell_type": "markdown",
   "metadata": {},
   "source": [
    "Les données viticoles qui nous intéressent sont toutes contenues dans un tableur (un fichier au format `.csv`). On peut importer ce tableur directement dans Python, avec la commande suivante:"
   ]
  },
  {
   "cell_type": "code",
   "execution_count": null,
   "metadata": {},
   "outputs": [],
   "source": [
    "dataset = pd.read_csv('data/winequality.csv')"
   ]
  },
  {
   "cell_type": "markdown",
   "metadata": {},
   "source": [
    "Ici `dataset` n'est rien d'autre qu'une grosse matrice : chacune de ses lignes correspond à une bouteille de vin, et chacune de ses colonnes correspond à un nombre correspondant à une propriété chimique ou a une note.\n",
    "Je vous **déconseille** d'essayer d'afficher l'intégralité de la matrice ici, car elle est trop grosse : "
   ]
  },
  {
   "cell_type": "code",
   "execution_count": null,
   "metadata": {},
   "outputs": [],
   "source": [
    "dataset.shape # affiche les dimensions de la matrice"
   ]
  },
  {
   "cell_type": "markdown",
   "metadata": {},
   "source": [
    "Ok, mais tout ceci ne nous dit pas ce qu'il y a dans cette matrice !?\n",
    "\n",
    "Pour en avoir un aperçu, vous pouvez utiliser `dataset.head()` qui vous donne un aperçu de ses premières lignes:"
   ]
  },
  {
   "cell_type": "code",
   "execution_count": null,
   "metadata": {},
   "outputs": [],
   "source": [
    "dataset.head()"
   ]
  },
  {
   "cell_type": "markdown",
   "metadata": {},
   "source": [
    "Vous voyez donc qu'on a affaire à un tableur, ou chaque ligne correspond à un vin (on n'a pas de nom ici mais seulement un numéro, de 0 à 1599), et chaque colonne à une propriété chimique (il y en a 11) ou sa note (12e colonne).\n",
    "\n",
    "Afin d'avoir un aprerçu du reste des données, on peut également appeler `dataset.describe()` pour avoir un résumé des données. Plus précisément, cela nous renvoie pour chaque propriété chimique la moyenne (*mean*), l'écart-type (*std*), etc parmi tous les vins."
   ]
  },
  {
   "cell_type": "code",
   "execution_count": null,
   "metadata": {},
   "outputs": [],
   "source": [
    "dataset.describe()"
   ]
  },
  {
   "cell_type": "markdown",
   "metadata": {},
   "source": [
    "Vous pouvez par exemple voir que les notes vont de 3 à 8, avec une note moyenne de 5.63 et une déviation standard de 0.80."
   ]
  },
  {
   "cell_type": "markdown",
   "metadata": {},
   "source": [
    "**III.2)** Si on résume ce qui se passe, chaque ligne $i$ correspond à un vin, et on peut en extraire un vecteur $a_i \\in \\mathbb{R}^{11}$ contenant ses 11 propriétés chimiques et un nombre $b_i$ correspondant à sa note.\n",
    "Donc on peut extraire des données une sous-matrice et un vecteur colonne:\n",
    "$$\n",
    "A=\\begin{pmatrix}\n",
    "& a_1^\\top & \\\\\n",
    "& \\vdots & \\\\\n",
    "& a_m^\\top &\n",
    "\\end{pmatrix}, \\ \\ \n",
    "b = \\begin{pmatrix}\n",
    "b_1 \\\\\n",
    "\\vdots \\\\\n",
    "b_m\n",
    "\\end{pmatrix}\n",
    "$$\n",
    "Essayez de comprendre ce que fait le code ci-dessous:"
   ]
  },
  {
   "cell_type": "code",
   "execution_count": null,
   "metadata": {},
   "outputs": [],
   "source": [
    "A_full = dataset[['acidité stable', 'acidité volatile', 'acide citrique', 'sucre résiduel', 'chlorides', 'dioxide de soufre libre', 'dioxide de soufre total', 'densité', 'pH', 'sulfates','alcool']].values\n",
    "b_full = dataset['note'].values"
   ]
  },
  {
   "cell_type": "markdown",
   "metadata": {},
   "source": [
    "Afin de simuler correctement ce qui se passerait en réalité, nous allons diviser en deux le jeu de données : nous allons en garder une grosse partie (80%), sur laquelle nous allons faire une régression linéaire ; puis nous allons garder le reste de coté (20%), qui va jouer le rôle d'un nouveau vin arrivant sur le marché, et nous permettre de **tester** nos résultats. \n",
    "Etant donné que l'on a déjà les notes pour ces vins, on pourra alors vérifier que notre solution marche bien (ou pas)."
   ]
  },
  {
   "cell_type": "code",
   "execution_count": null,
   "metadata": {},
   "outputs": [],
   "source": [
    "nb_vins = A_full.shape[0]\n",
    "taille_test = int( nb_vins*0.2 )\n",
    "\n",
    "A_test = A_full[0:taille_test, :]\n",
    "b_test = b_full[0:taille_test]\n",
    "A = A_full[taille_test:, :]\n",
    "b = b_full[taille_test:]"
   ]
  },
  {
   "cell_type": "markdown",
   "metadata": {},
   "source": [
    "# III. Application des moindres carrés aux données viticoles"
   ]
  },
  {
   "cell_type": "markdown",
   "metadata": {},
   "source": [
    "Comme au **I.** on cherche ici à trouver une fonction *affine* $R : \\mathbb{R}^{p} \\longrightarrow \\mathbb{R}$ (avec $p=11$), telle que $R(a_i) \\simeq b_i$.\n",
    "Autrement dit, on s'attend à ce que la note attribuée à un vin peut en fait s'exprimer comme une combinaison affine des valeurs de ses propriétés chimiques.\n",
    "\n",
    "Une telle fonction affine de $\\mathbb{R}^p$ dans $\\mathbb{R}$ s'écrit forcément sous la forme $$R(x) = \\langle \\alpha, x \\rangle + \\beta,$$ où $\\alpha = (\\alpha_1, \\dots, \\alpha_p) \\in \\mathbb{R}^p$ et $\\beta \\in \\mathbb{R}$.\n",
    "Donc il nous faut trouver les meilleurs $\\alpha \\in \\mathbb{R}^P$ et $\\beta \\in \\mathbb{R}$.\n",
    "\n",
    "De la même manière qu'au **I.** on va procéder à une approche de moindres carrés : on veut minimiser \n",
    "\\begin{equation}\\label{E:MC2}\n",
    "    \\text{minimiser}_{(\\alpha,\\beta) \\in \\mathbb{R}^p\\times \\mathbb{R}} \\ \\sum\\limits_{i=1}^m \\vert \\langle\\alpha, a_i \\rangle + \\beta - b_i \\vert^2 \\tag{$MC_{vin}$}\n",
    "\\end{equation}\n",
    "\n",
    "Quelques commandes qui vous seront utiles:\n",
    "\n",
    "\n",
    "| | |\n",
    "|-|-|\n",
    "| `np.ones(3)`, ou `np.zeros(3)` | Définit un vecteur 1D rempli de 1, ou 0|\n",
    "| `np.ones((2,3))`, ou `np.zeros((2,3))` | Définit une matrice 2D dans $\\mathcal{M}_{2,3}(\\mathbb{R})$ remplie de 1, ou 0 |\n",
    "| `A.shape` | Renvoie les dimensions de la matrice `A` |\n",
    "| `A[2,0]` | Renvoie le coefficient de la 3e ligne, 1ère colonne de la matrice `A` |\n",
    "| `A[2,:]` (ou `A[:,2]` ) | Renvoie la 3e ligne (ou colonne) de la matrice `A` (comme vecteur 1D) |\n",
    "| `A[:, :11]` | Renvoie les 11 premières colonnes de la matrice `A` |\n",
    "| `np.abs(x)` | Applique la valeur absolue à tous les coefficients du vecteur `x` |\n",
    "| `np.mean(x)` ou `np.std(x)` | Renvoie la moyenne (ou écart-type) des coefficients du vecteur `x` |\n",
    "\n",
    "\n",
    "\n",
    "**III.1)** Vérifier que le problème des moindres carrés $\\eqref{E:MC2}$ peut s'écrire de manière équivalente en\n",
    "\n",
    "\\begin{equation*}\n",
    "    \\text{minimiser}_{x \\in \\mathbb{R}^2} \\ f(x) = \\Vert \\Phi x - y \\Vert^2, \n",
    "\\end{equation*}\n",
    "\n",
    "$\\\n",
    "    \\text{ avec } \n",
    "    \\Phi = \\begin{pmatrix}\n",
    "    &  & & 1 \\\\\n",
    "    & A & & \\vdots \\\\\n",
    "    &  & & 1\n",
    "    \\end{pmatrix} \\in \\mathcal{M}_{m,p+1}, \\\n",
    "    x = \\begin{pmatrix}\n",
    "    \\alpha \\\\\n",
    "    \\beta\n",
    "    \\end{pmatrix} \\in \\mathbb{R}^{p+1}, \\\n",
    "    y = b = \\begin{pmatrix}\n",
    "    b_1 \\\\\n",
    "    \\vdots \\\\\n",
    "    b_m\n",
    "    \\end{pmatrix} \\in \\mathbb{R}^m.$"
   ]
  },
  {
   "cell_type": "markdown",
   "metadata": {},
   "source": [
    "**III.2)** Définissez $\\Phi$ (`Phi`) et $y$ en fonction de $A$ et $b$. Cela demande de savoir comment définir une matrice avec des sous-matrices. Savez-vous comment faire? Si non, c'est le moment de chercher l'information!"
   ]
  },
  {
   "cell_type": "code",
   "execution_count": null,
   "metadata": {},
   "outputs": [],
   "source": []
  },
  {
   "cell_type": "code",
   "execution_count": null,
   "metadata": {},
   "outputs": [],
   "source": []
  },
  {
   "cell_type": "code",
   "execution_count": null,
   "metadata": {},
   "outputs": [],
   "source": []
  },
  {
   "cell_type": "code",
   "execution_count": null,
   "metadata": {},
   "outputs": [],
   "source": []
  },
  {
   "cell_type": "code",
   "execution_count": null,
   "metadata": {},
   "outputs": [],
   "source": []
  },
  {
   "cell_type": "code",
   "execution_count": null,
   "metadata": {},
   "outputs": [],
   "source": []
  },
  {
   "cell_type": "markdown",
   "metadata": {},
   "source": [
    "**III.3)** Vérifiez que la matrice $\\Phi^\\top \\Phi$ est définie positive. (Question bonus : Pensez-vous que vous auriez pu le prouver avec un argument mathématique?)"
   ]
  },
  {
   "cell_type": "code",
   "execution_count": null,
   "metadata": {},
   "outputs": [],
   "source": []
  },
  {
   "cell_type": "markdown",
   "metadata": {},
   "source": [
    "<details>\n",
    "<summary>Cliquez <b>ici</b> pour afficher la réponse à la question bonus</summary>\n",
    "Une telle matrice est toujours positive, donc elle est définie positive ssi Phi est injective. \n",
    "Cela équivaut à ce que ses colonnes soient une famille indépendante. \n",
    "Si elles étaient liées, cela voudrait dire qu'une des quantités chimiques peut s'exprimer comme combiniaison linéaire des autres.\n",
    "Si c'était le cas ce ne serait pas dramatique, il suffirait de s'en débarasser car l'information serait redondante.\n",
    "</details>"
   ]
  },
  {
   "cell_type": "markdown",
   "metadata": {},
   "source": [
    "**III.4)** Déduisez-en, en utilisant le cours, que le minimiseur $x=(\\alpha, \\beta)^\\top \\in \\mathbb{R}^{p+1}$ de $f(x) = \\Vert \\Phi x - y \\Vert^2$ que l'on cherche est solution du système linéaire $\\Phi^\\top \\Phi x = \\Phi^\\top y$. \n",
    "Trouvez ce vecteur en utilisant la fonction `la.solve(A,b)` qui résoud les équations $Ax=b$.\n",
    "Coupez ce vecteur solution en deux : un vecteur $\\alpha \\in \\mathbb{R}^{11}$, et une constante $\\beta \\in \\mathbb{R}$."
   ]
  },
  {
   "cell_type": "code",
   "execution_count": null,
   "metadata": {},
   "outputs": [],
   "source": []
  },
  {
   "cell_type": "code",
   "execution_count": null,
   "metadata": {},
   "outputs": [],
   "source": []
  },
  {
   "cell_type": "markdown",
   "metadata": {},
   "source": [
    "**III.5)** Regardez les valeurs de `alpha` que vous avez trouvé. Chaque valeur correspond au \"poids\", à \"l'importance\" associée à une certaine quatité chimique mesurée. Par exemple le troisième coefficient correspond à l'acide citrique, et le dernier au taux d'alcoolémie. Quels ont l'air d'être les critères les plus importants?"
   ]
  },
  {
   "cell_type": "code",
   "execution_count": null,
   "metadata": {},
   "outputs": [],
   "source": []
  },
  {
   "cell_type": "markdown",
   "metadata": {},
   "source": [
    "**III.6)** On dispose maintenant d'une fonction $R$ définie par $R(x) = \\langle \\alpha , x \\rangle + \\beta$. \n",
    "Avec la solution $(\\alpha, \\beta)$ que vous venez de trouver, prenez un vin au hasard parmi les données de **test** (cf. question III.2), et vérifiez que $R(a_i) \\simeq b_i$. \n",
    "\n",
    "<details>\n",
    "<summary>Bloqué(e)? Cliquez <b>ici</b> pour afficher de l'aide</summary>\n",
    "* Un vin = une ligne de la matrice <br>\n",
    "* Un produit scalaire se calcule en faisant un produit ligne fois vecteur. Assurez-vous de manipuler des vecteurs qui ont les bonnes dimensions! Cela se vérifie avec la commande 'shape' <br>\n",
    "* La transposée s'obtient avec \".T\"\n",
    "</details>"
   ]
  },
  {
   "cell_type": "code",
   "execution_count": null,
   "metadata": {},
   "outputs": [],
   "source": []
  },
  {
   "cell_type": "markdown",
   "metadata": {},
   "source": [
    "**III.7)** Définir un vecteur `b_prediction` qui renvoie les notes prédites par $R$ pour tous les vins du jeu de données de test. Arriverez-vous à le faire sans boucle for ..?"
   ]
  },
  {
   "cell_type": "code",
   "execution_count": null,
   "metadata": {},
   "outputs": [],
   "source": []
  },
  {
   "cell_type": "markdown",
   "metadata": {},
   "source": [
    "On peut alors essayer de comparer `b_prediction` au vrai `b_test`. Que pensez-vous du résultat?"
   ]
  },
  {
   "cell_type": "code",
   "execution_count": null,
   "metadata": {},
   "outputs": [],
   "source": [
    "comparaison = pd.DataFrame({'Réalité': b_test, 'Prédiction': b_prediction}) # on compare\n",
    "comparaison_partiel = comparaison.head(25) # on prend les 25 premiers vins\n",
    "comparaison_partiel.plot(kind='bar',figsize=(10,8)) # on affiche la comparaison"
   ]
  },
  {
   "cell_type": "markdown",
   "metadata": {},
   "source": [
    "**III.8)** On peut essayer de quantifier l'erreur commise par notre prédiction : pour cela on va calculer l'erreur commise *en moyenne* pour chaque vin : $\\frac{1}{m} \\sum_i \\vert R(a_i) - y_i \\vert$. Considérez-vous que c'est un bon chiffre? Et quid de l'écart-type?"
   ]
  },
  {
   "cell_type": "code",
   "execution_count": null,
   "metadata": {},
   "outputs": [],
   "source": []
  },
  {
   "cell_type": "code",
   "execution_count": null,
   "metadata": {},
   "outputs": [],
   "source": []
  },
  {
   "cell_type": "markdown",
   "metadata": {},
   "source": [
    "A votre avis est-ce que notre modèle linéaire est pertinent?"
   ]
  },
  {
   "cell_type": "markdown",
   "metadata": {},
   "source": [
    "### Conclusion:\n",
    "\n",
    "Ce TP était un peu une excuse pour faire de la science des données, et, de manière cachée, de la modélisation statistique. Si cela vous a intéressé, ou a minima rendu curieux, sachez que ce sont des sujets développés en profondeur dans nos masters en science des données: un double master généraliste [Mathématiques-Informatique Data Science](http://master.math.univ-paris-diderot.fr/parcours/data/), et un Master plus orienté vers la [finance](https://masterfinance.math.univ-paris-diderot.fr/)."
   ]
  },
  {
   "cell_type": "markdown",
   "metadata": {},
   "source": [
    "### Sources :\n",
    "\n",
    "- Données : le Wine Quality Dataset, récolté lors d'une étude de comparaison entre les vins rouges et blancs/verts portuguais http://www3.dsi.uminho.pt/pcortez/wine/\n",
    "- Idée de l'exercice : [https://towardsdatascience.com/a-beginners-guide-to-linear-regression-in-python-with-scikit-learn-83a8f7ae2b4f](https://web.archive.org/web/20190605170834if_/https://towardsdatascience.com/a-beginners-guide-to-linear-regression-in-python-with-scikit-learn-83a8f7ae2b4f) par [Nagesh Singh Chauhan](https://twitter.com/nschauhan00?lang=fr)"
   ]
  },
  {
   "cell_type": "code",
   "execution_count": null,
   "metadata": {},
   "outputs": [],
   "source": []
  }
 ],
 "metadata": {
  "kernelspec": {
   "display_name": "Python 3",
   "language": "python",
   "name": "python3"
  },
  "language_info": {
   "codemirror_mode": {
    "name": "ipython",
    "version": 3
   },
   "file_extension": ".py",
   "mimetype": "text/x-python",
   "name": "python",
   "nbconvert_exporter": "python",
   "pygments_lexer": "ipython3",
   "version": "3.9.7"
  }
 },
 "nbformat": 4,
 "nbformat_minor": 4
}
